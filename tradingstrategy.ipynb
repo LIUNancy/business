{
 "cells": [
  {
   "cell_type": "code",
   "execution_count": 43,
   "id": "8a8cfca5",
   "metadata": {},
   "outputs": [
    {
     "name": "stdout",
     "output_type": "stream",
     "text": [
      "Collecting quantstats"
     ]
    },
    {
     "name": "stderr",
     "output_type": "stream",
     "text": [
      "WARNING: You are using pip version 22.0.4; however, version 23.3.1 is available.\n",
      "You should consider upgrading via the 'C:\\Users\\PhilipNancy\\Desktop\\Nancy_pyspark\\Scripts\\python.exe -m pip install --upgrade pip' command.\n"
     ]
    },
    {
     "name": "stdout",
     "output_type": "stream",
     "text": [
      "\n",
      "  Downloading QuantStats-0.0.62-py2.py3-none-any.whl (45 kB)\n",
      "     ---------------------------------------- 45.5/45.5 KB 1.1 MB/s eta 0:00:00\n",
      "Requirement already satisfied: python-dateutil>=2.0 in c:\\users\\philipnancy\\desktop\\nancy_pyspark\\lib\\site-packages (from quantstats) (2.8.2)\n",
      "Requirement already satisfied: matplotlib>=3.0.0 in c:\\users\\philipnancy\\desktop\\nancy_pyspark\\lib\\site-packages (from quantstats) (3.5.3)\n",
      "Collecting yfinance>=0.1.70\n",
      "  Downloading yfinance-0.2.33-py2.py3-none-any.whl (69 kB)\n",
      "     ---------------------------------------- 69.0/69.0 KB 3.7 MB/s eta 0:00:00\n",
      "Requirement already satisfied: numpy>=1.16.5 in c:\\users\\philipnancy\\desktop\\nancy_pyspark\\lib\\site-packages (from quantstats) (1.22.4)\n",
      "Requirement already satisfied: seaborn>=0.9.0 in c:\\users\\philipnancy\\desktop\\nancy_pyspark\\lib\\site-packages (from quantstats) (0.12.0)\n",
      "Collecting tabulate>=0.8.0\n",
      "  Downloading tabulate-0.9.0-py3-none-any.whl (35 kB)\n",
      "Requirement already satisfied: pandas>=0.24.0 in c:\\users\\philipnancy\\desktop\\nancy_pyspark\\lib\\site-packages (from quantstats) (1.4.2)\n",
      "Requirement already satisfied: scipy>=1.2.0 in c:\\users\\philipnancy\\desktop\\nancy_pyspark\\lib\\site-packages (from quantstats) (1.9.0)\n",
      "Requirement already satisfied: kiwisolver>=1.0.1 in c:\\users\\philipnancy\\desktop\\nancy_pyspark\\lib\\site-packages (from matplotlib>=3.0.0->quantstats) (1.4.4)\n",
      "Requirement already satisfied: pillow>=6.2.0 in c:\\users\\philipnancy\\desktop\\nancy_pyspark\\lib\\site-packages (from matplotlib>=3.0.0->quantstats) (9.2.0)\n",
      "Requirement already satisfied: fonttools>=4.22.0 in c:\\users\\philipnancy\\desktop\\nancy_pyspark\\lib\\site-packages (from matplotlib>=3.0.0->quantstats) (4.34.4)\n",
      "Requirement already satisfied: cycler>=0.10 in c:\\users\\philipnancy\\desktop\\nancy_pyspark\\lib\\site-packages (from matplotlib>=3.0.0->quantstats) (0.11.0)\n",
      "Requirement already satisfied: packaging>=20.0 in c:\\users\\philipnancy\\desktop\\nancy_pyspark\\lib\\site-packages (from matplotlib>=3.0.0->quantstats) (21.3)\n",
      "Requirement already satisfied: pyparsing>=2.2.1 in c:\\users\\philipnancy\\desktop\\nancy_pyspark\\lib\\site-packages (from matplotlib>=3.0.0->quantstats) (3.0.9)\n",
      "Requirement already satisfied: pytz>=2020.1 in c:\\users\\philipnancy\\desktop\\nancy_pyspark\\lib\\site-packages (from pandas>=0.24.0->quantstats) (2022.1)\n",
      "Requirement already satisfied: six>=1.5 in c:\\users\\philipnancy\\appdata\\local\\programs\\python\\python39\\lib\\site-packages (from python-dateutil>=2.0->quantstats) (1.16.0)\n",
      "Collecting appdirs>=1.4.4\n",
      "  Downloading appdirs-1.4.4-py2.py3-none-any.whl (9.6 kB)\n",
      "Collecting pytz>=2020.1\n",
      "  Downloading pytz-2023.3.post1-py2.py3-none-any.whl (502 kB)\n",
      "     -------------------------------------- 502.5/502.5 KB 2.9 MB/s eta 0:00:00\n",
      "Collecting frozendict>=2.3.4\n",
      "  Downloading frozendict-2.3.10-cp39-cp39-win_amd64.whl (36 kB)\n",
      "Requirement already satisfied: beautifulsoup4>=4.11.1 in c:\\users\\philipnancy\\desktop\\nancy_pyspark\\lib\\site-packages (from yfinance>=0.1.70->quantstats) (4.11.1)\n",
      "Collecting requests>=2.31\n",
      "  Downloading requests-2.31.0-py3-none-any.whl (62 kB)\n",
      "     ---------------------------------------- 62.6/62.6 KB 3.3 MB/s eta 0:00:00\n",
      "Collecting multitasking>=0.0.7\n",
      "  Downloading multitasking-0.0.11-py3-none-any.whl (8.5 kB)\n",
      "Requirement already satisfied: lxml>=4.9.1 in c:\\users\\philipnancy\\desktop\\nancy_pyspark\\lib\\site-packages (from yfinance>=0.1.70->quantstats) (4.9.2)\n",
      "Collecting html5lib>=1.1\n",
      "  Downloading html5lib-1.1-py2.py3-none-any.whl (112 kB)\n",
      "     -------------------------------------- 112.2/112.2 KB 3.2 MB/s eta 0:00:00\n",
      "Collecting peewee>=3.16.2\n",
      "  Downloading peewee-3.17.0.tar.gz (2.9 MB)\n",
      "     ---------------------------------------- 2.9/2.9 MB 4.2 MB/s eta 0:00:00\n",
      "  Installing build dependencies: started\n",
      "  Installing build dependencies: finished with status 'done'\n",
      "  Getting requirements to build wheel: started\n",
      "  Getting requirements to build wheel: finished with status 'done'\n",
      "  Preparing metadata (pyproject.toml): started\n",
      "  Preparing metadata (pyproject.toml): finished with status 'done'\n",
      "Requirement already satisfied: soupsieve>1.2 in c:\\users\\philipnancy\\desktop\\nancy_pyspark\\lib\\site-packages (from beautifulsoup4>=4.11.1->yfinance>=0.1.70->quantstats) (2.3.2.post1)\n",
      "Requirement already satisfied: webencodings in c:\\users\\philipnancy\\desktop\\nancy_pyspark\\lib\\site-packages (from html5lib>=1.1->yfinance>=0.1.70->quantstats) (0.5.1)\n",
      "Requirement already satisfied: idna<4,>=2.5 in c:\\users\\philipnancy\\desktop\\nancy_pyspark\\lib\\site-packages (from requests>=2.31->yfinance>=0.1.70->quantstats) (3.4)\n",
      "Requirement already satisfied: charset-normalizer<4,>=2 in c:\\users\\philipnancy\\desktop\\nancy_pyspark\\lib\\site-packages (from requests>=2.31->yfinance>=0.1.70->quantstats) (2.1.1)\n",
      "Requirement already satisfied: certifi>=2017.4.17 in c:\\users\\philipnancy\\desktop\\nancy_pyspark\\lib\\site-packages (from requests>=2.31->yfinance>=0.1.70->quantstats) (2022.9.24)\n",
      "Requirement already satisfied: urllib3<3,>=1.21.1 in c:\\users\\philipnancy\\desktop\\nancy_pyspark\\lib\\site-packages (from requests>=2.31->yfinance>=0.1.70->quantstats) (1.26.12)\n",
      "Building wheels for collected packages: peewee\n",
      "  Building wheel for peewee (pyproject.toml): started\n",
      "  Building wheel for peewee (pyproject.toml): finished with status 'done'\n",
      "  Created wheel for peewee: filename=peewee-3.17.0-py3-none-any.whl size=135730 sha256=762121380b8a9114bdab81fd4d629453a6aaefd7bba6873dd62add1fd1e80b1d\n",
      "  Stored in directory: c:\\users\\philipnancy\\appdata\\local\\pip\\cache\\wheels\\77\\6b\\dc\\722aee2a5d46a021ab67564c9d3d5536c3bd9577fcdc3a5aeb\n",
      "Successfully built peewee\n",
      "Installing collected packages: pytz, peewee, multitasking, appdirs, tabulate, requests, html5lib, frozendict, yfinance, quantstats\n",
      "  Attempting uninstall: pytz\n",
      "    Found existing installation: pytz 2022.1\n",
      "    Uninstalling pytz-2022.1:\n",
      "      Successfully uninstalled pytz-2022.1\n",
      "  Attempting uninstall: requests\n",
      "    Found existing installation: requests 2.28.1\n",
      "    Uninstalling requests-2.28.1:\n",
      "      Successfully uninstalled requests-2.28.1\n",
      "Successfully installed appdirs-1.4.4 frozendict-2.3.10 html5lib-1.1 multitasking-0.0.11 peewee-3.17.0 pytz-2023.3.post1 quantstats-0.0.62 requests-2.31.0 tabulate-0.9.0 yfinance-0.2.33\n"
     ]
    }
   ],
   "source": [
    "!pip install quantstats"
   ]
  },
  {
   "cell_type": "code",
   "execution_count": 44,
   "id": "c2f166fb",
   "metadata": {},
   "outputs": [
    {
     "ename": "ModuleNotFoundError",
     "evalue": "No module named 'plotly'",
     "output_type": "error",
     "traceback": [
      "\u001b[1;31m---------------------------------------------------------------------------\u001b[0m",
      "\u001b[1;31mModuleNotFoundError\u001b[0m                       Traceback (most recent call last)",
      "Input \u001b[1;32mIn [44]\u001b[0m, in \u001b[0;36m<cell line: 8>\u001b[1;34m()\u001b[0m\n\u001b[0;32m      6\u001b[0m \u001b[38;5;28;01mimport\u001b[39;00m \u001b[38;5;21;01mseaborn\u001b[39;00m \u001b[38;5;28;01mas\u001b[39;00m \u001b[38;5;21;01msns\u001b[39;00m\n\u001b[0;32m      7\u001b[0m \u001b[38;5;28;01mfrom\u001b[39;00m \u001b[38;5;21;01msklearn\u001b[39;00m\u001b[38;5;21;01m.\u001b[39;00m\u001b[38;5;21;01mlinear_model\u001b[39;00m \u001b[38;5;28;01mimport\u001b[39;00m LinearRegression\n\u001b[1;32m----> 8\u001b[0m \u001b[38;5;28;01mimport\u001b[39;00m \u001b[38;5;21;01mplotly\u001b[39;00m\u001b[38;5;21;01m.\u001b[39;00m\u001b[38;5;21;01mexpress\u001b[39;00m \u001b[38;5;28;01mas\u001b[39;00m \u001b[38;5;21;01mpx\u001b[39;00m\n\u001b[0;32m      9\u001b[0m \u001b[38;5;28;01mimport\u001b[39;00m \u001b[38;5;21;01myfinance\u001b[39;00m \u001b[38;5;28;01mas\u001b[39;00m \u001b[38;5;21;01myf\u001b[39;00m\n",
      "\u001b[1;31mModuleNotFoundError\u001b[0m: No module named 'plotly'"
     ]
    }
   ],
   "source": [
    "# Importing libraries\n",
    "import pandas as pd\n",
    "import numpy as np\n",
    "import quantstats as qs\n",
    "import matplotlib.pyplot as plt\n",
    "import seaborn as sns\n",
    "from sklearn.linear_model import LinearRegression\n",
    "import plotly.express as px\n",
    "import yfinance as yf"
   ]
  },
  {
   "cell_type": "code",
   "execution_count": 45,
   "id": "e8ff7533",
   "metadata": {},
   "outputs": [
    {
     "name": "stdout",
     "output_type": "stream",
     "text": [
      "[*********************100%%**********************]  1 of 1 completed\n"
     ]
    }
   ],
   "source": [
    "aapl = qs.utils.download_returns('AAPL')\n",
    "aapl = aapl.loc['2010-07-01':'2023-02-10']"
   ]
  },
  {
   "cell_type": "code",
   "execution_count": 46,
   "id": "7a85bd7b",
   "metadata": {},
   "outputs": [
    {
     "name": "stdout",
     "output_type": "stream",
     "text": [
      "\n",
      "Apple Daily Returns Plot:\n",
      "\n"
     ]
    },
    {
     "ename": "TypeError",
     "evalue": "daily_returns() missing 1 required positional argument: 'benchmark'",
     "output_type": "error",
     "traceback": [
      "\u001b[1;31m---------------------------------------------------------------------------\u001b[0m",
      "\u001b[1;31mTypeError\u001b[0m                                 Traceback (most recent call last)",
      "Input \u001b[1;32mIn [46]\u001b[0m, in \u001b[0;36m<cell line: 3>\u001b[1;34m()\u001b[0m\n\u001b[0;32m      1\u001b[0m \u001b[38;5;66;03m# Plotting Daily Returns for each stock\u001b[39;00m\n\u001b[0;32m      2\u001b[0m \u001b[38;5;28mprint\u001b[39m(\u001b[38;5;124m'\u001b[39m\u001b[38;5;130;01m\\n\u001b[39;00m\u001b[38;5;124mApple Daily Returns Plot:\u001b[39m\u001b[38;5;130;01m\\n\u001b[39;00m\u001b[38;5;124m'\u001b[39m)\n\u001b[1;32m----> 3\u001b[0m \u001b[43mqs\u001b[49m\u001b[38;5;241;43m.\u001b[39;49m\u001b[43mplots\u001b[49m\u001b[38;5;241;43m.\u001b[39;49m\u001b[43mdaily_returns\u001b[49m\u001b[43m(\u001b[49m\u001b[43maapl\u001b[49m\u001b[43m)\u001b[49m\n",
      "\u001b[1;31mTypeError\u001b[0m: daily_returns() missing 1 required positional argument: 'benchmark'"
     ]
    }
   ],
   "source": [
    "# Plotting Daily Returns for each stock\n",
    "print('\\nApple Daily Returns Plot:\\n')\n",
    "qs.plots.daily_returns(aapl)"
   ]
  },
  {
   "cell_type": "code",
   "execution_count": 47,
   "id": "2c245bee",
   "metadata": {},
   "outputs": [
    {
     "name": "stdout",
     "output_type": "stream",
     "text": [
      "\n",
      "Apple Daily Returns Histogram\n"
     ]
    },
    {
     "data": {
      "image/png": "[encoded data removed]",
      "text/plain": [
       "<Figure size 716.4x360 with 1 Axes>"
      ]
     },
     "metadata": {},
     "output_type": "display_data"
    }
   ],
   "source": [
    "# Plotting histograms\n",
    "print('\\nApple Daily Returns Histogram')\n",
    "qs.plots.histogram(aapl, resample = 'D')"
   ]
  },
  {
   "cell_type": "code",
   "execution_count": 48,
   "id": "86743fcc",
   "metadata": {},
   "outputs": [
    {
     "name": "stdout",
     "output_type": "stream",
     "text": [
      "Apple's kurtosis:  5.25\n"
     ]
    }
   ],
   "source": [
    "# Using quantstats to measure kurtosis\n",
    "print(\"Apple's kurtosis: \", qs.stats.kurtosis(aapl).round(2))"
   ]
  },
  {
   "cell_type": "code",
   "execution_count": 49,
   "id": "ba856415",
   "metadata": {},
   "outputs": [
    {
     "name": "stdout",
     "output_type": "stream",
     "text": [
      "Apple's skewness:  -0.07\n"
     ]
    }
   ],
   "source": [
    "# Measuring skewness with quantstats\n",
    "print(\"Apple's skewness: \", qs.stats.skew(aapl).round(2))"
   ]
  },
  {
   "cell_type": "code",
   "execution_count": 50,
   "id": "dd67e01b",
   "metadata": {},
   "outputs": [
    {
     "name": "stdout",
     "output_type": "stream",
     "text": [
      "[*********************100%%**********************]  1 of 1 completed\n"
     ]
    },
    {
     "ename": "TypeError",
     "evalue": "Cannot convert tz-naive timestamps, use tz_localize to localize",
     "output_type": "error",
     "traceback": [
      "\u001b[1;31m---------------------------------------------------------------------------\u001b[0m",
      "\u001b[1;31mTypeError\u001b[0m                                 Traceback (most recent call last)",
      "Input \u001b[1;32mIn [50]\u001b[0m, in \u001b[0;36m<cell line: 4>\u001b[1;34m()\u001b[0m\n\u001b[0;32m      2\u001b[0m sp500 \u001b[38;5;241m=\u001b[39m qs\u001b[38;5;241m.\u001b[39mutils\u001b[38;5;241m.\u001b[39mdownload_returns(\u001b[38;5;124m'\u001b[39m\u001b[38;5;124m^GSPC\u001b[39m\u001b[38;5;124m'\u001b[39m)\n\u001b[0;32m      3\u001b[0m sp500 \u001b[38;5;241m=\u001b[39m sp500\u001b[38;5;241m.\u001b[39mloc[\u001b[38;5;124m'\u001b[39m\u001b[38;5;124m2010-07-01\u001b[39m\u001b[38;5;124m'\u001b[39m:\u001b[38;5;124m'\u001b[39m\u001b[38;5;124m2023-02-10\u001b[39m\u001b[38;5;124m'\u001b[39m]\n\u001b[1;32m----> 4\u001b[0m sp500\u001b[38;5;241m.\u001b[39mindex \u001b[38;5;241m=\u001b[39m \u001b[43msp500\u001b[49m\u001b[38;5;241;43m.\u001b[39;49m\u001b[43mindex\u001b[49m\u001b[38;5;241;43m.\u001b[39;49m\u001b[43mtz_convert\u001b[49m\u001b[43m(\u001b[49m\u001b[38;5;28;43;01mNone\u001b[39;49;00m\u001b[43m)\u001b[49m\n",
      "File \u001b[1;32m~\\Desktop\\Nancy_pyspark\\lib\\site-packages\\pandas\\core\\indexes\\datetimes.py:268\u001b[0m, in \u001b[0;36mDatetimeIndex.tz_convert\u001b[1;34m(self, tz)\u001b[0m\n\u001b[0;32m    266\u001b[0m \u001b[38;5;129m@doc\u001b[39m(DatetimeArray\u001b[38;5;241m.\u001b[39mtz_convert)\n\u001b[0;32m    267\u001b[0m \u001b[38;5;28;01mdef\u001b[39;00m \u001b[38;5;21mtz_convert\u001b[39m(\u001b[38;5;28mself\u001b[39m, tz) \u001b[38;5;241m-\u001b[39m\u001b[38;5;241m>\u001b[39m DatetimeIndex:\n\u001b[1;32m--> 268\u001b[0m     arr \u001b[38;5;241m=\u001b[39m \u001b[38;5;28;43mself\u001b[39;49m\u001b[38;5;241;43m.\u001b[39;49m\u001b[43m_data\u001b[49m\u001b[38;5;241;43m.\u001b[39;49m\u001b[43mtz_convert\u001b[49m\u001b[43m(\u001b[49m\u001b[43mtz\u001b[49m\u001b[43m)\u001b[49m\n\u001b[0;32m    269\u001b[0m     \u001b[38;5;28;01mreturn\u001b[39;00m \u001b[38;5;28mtype\u001b[39m(\u001b[38;5;28mself\u001b[39m)\u001b[38;5;241m.\u001b[39m_simple_new(arr, name\u001b[38;5;241m=\u001b[39m\u001b[38;5;28mself\u001b[39m\u001b[38;5;241m.\u001b[39mname)\n",
      "File \u001b[1;32m~\\Desktop\\Nancy_pyspark\\lib\\site-packages\\pandas\\core\\arrays\\datetimes.py:874\u001b[0m, in \u001b[0;36mDatetimeArray.tz_convert\u001b[1;34m(self, tz)\u001b[0m\n\u001b[0;32m    870\u001b[0m tz \u001b[38;5;241m=\u001b[39m timezones\u001b[38;5;241m.\u001b[39mmaybe_get_tz(tz)\n\u001b[0;32m    872\u001b[0m \u001b[38;5;28;01mif\u001b[39;00m \u001b[38;5;28mself\u001b[39m\u001b[38;5;241m.\u001b[39mtz \u001b[38;5;129;01mis\u001b[39;00m \u001b[38;5;28;01mNone\u001b[39;00m:\n\u001b[0;32m    873\u001b[0m     \u001b[38;5;66;03m# tz naive, use tz_localize\u001b[39;00m\n\u001b[1;32m--> 874\u001b[0m     \u001b[38;5;28;01mraise\u001b[39;00m \u001b[38;5;167;01mTypeError\u001b[39;00m(\n\u001b[0;32m    875\u001b[0m         \u001b[38;5;124m\"\u001b[39m\u001b[38;5;124mCannot convert tz-naive timestamps, use tz_localize to localize\u001b[39m\u001b[38;5;124m\"\u001b[39m\n\u001b[0;32m    876\u001b[0m     )\n\u001b[0;32m    878\u001b[0m \u001b[38;5;66;03m# No conversion since timestamps are all UTC to begin with\u001b[39;00m\n\u001b[0;32m    879\u001b[0m dtype \u001b[38;5;241m=\u001b[39m tz_to_dtype(tz)\n",
      "\u001b[1;31mTypeError\u001b[0m: Cannot convert tz-naive timestamps, use tz_localize to localize"
     ]
    }
   ],
   "source": [
    "# Loading data from the SP500, the american benchmark\n",
    "sp500 = qs.utils.download_returns('^GSPC')\n",
    "sp500 = sp500.loc['2010-07-01':'2023-02-10']\n",
    "sp500.index = sp500.index.tz_convert(None)"
   ]
  },
  {
   "cell_type": "code",
   "execution_count": null,
   "id": "243cdbf7",
   "metadata": {},
   "outputs": [],
   "source": []
  }
 ],
 "metadata": {
  "kernelspec": {
   "display_name": "Python 3 (ipykernel)",
   "language": "python",
   "name": "python3"
  },
  "language_info": {
   "codemirror_mode": {
    "name": "ipython",
    "version": 3
   },
   "file_extension": ".py",
   "mimetype": "text/x-python",
   "name": "python",
   "nbconvert_exporter": "python",
   "pygments_lexer": "ipython3",
   "version": "3.9.5"
  }
 },
 "nbformat": 4,
 "nbformat_minor": 5
}
